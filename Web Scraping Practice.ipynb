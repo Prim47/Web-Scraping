{
 "cells": [
  {
   "cell_type": "markdown",
   "metadata": {},
   "source": [
    "# Exercise 1"
   ]
  },
  {
   "cell_type": "code",
   "execution_count": 5,
   "metadata": {},
   "outputs": [
    {
     "name": "stdout",
     "output_type": "stream",
     "text": [
      "9\n",
      "9\n"
     ]
    },
    {
     "data": {
      "image/png": "[encoded data removed]",
      "text/plain": [
       "<matplotlib.figure.Figure at 0x7f3f7b0174e0>"
      ]
     },
     "metadata": {},
     "output_type": "display_data"
    },
    {
     "name": "stdout",
     "output_type": "stream",
     "text": [
      "[7, 9, 21, 30, 35, 52, 57, 92, 97]\n",
      "[21, 0, 21, 11, 0, 12, 7, 6, 22]\n"
     ]
    },
    {
     "data": {
      "image/png": "[encoded data removed]",
      "text/plain": [
       "<matplotlib.figure.Figure at 0x7f3f7b092208>"
      ]
     },
     "metadata": {},
     "output_type": "display_data"
    }
   ],
   "source": [
    "import numpy as np\n",
    "import matplotlib.pyplot as plt\n",
    "\n",
    "# this plots inline graph in jupyter notebook\n",
    "%matplotlib inline\n",
    "\n",
    "# select the number k randomly from [5, 10]\n",
    "k = np.random.randint(5, 11)\n",
    "numbers = []\n",
    "prob = []\n",
    "\n",
    "# generates K random numbers between [0, 100) and assign random probability between [0, 1)\n",
    "for i in range(0, k):\n",
    "    numbers.append(np.random.randint(0, 100))\n",
    "    prob.append(np.random.uniform(0, 1))\n",
    "\n",
    "# normalize probability using numpy array\n",
    "# e.g. normalize [0. 8, 0.9, 0.2, 0.1] to [0.4, 0.45, 0.1, 0.05]\n",
    "# so total probability sum is 1\n",
    "prob = np.array(prob)\n",
    "numbers = np.array(numbers)\n",
    "total = prob.sum()\n",
    "prob /= total\n",
    "\n",
    "print(k)\n",
    "print(len(numbers))\n",
    "\n",
    "# select 100 numbers with the given probability\n",
    "# will use this as indices\n",
    "# e.g. b will be [0, 2, 4, 5, ..., 1]\n",
    "# and if randomly chosen numbers are [10, 12, 45, 56, 14, 79]\n",
    "# then final selcted numbers will be\n",
    "# [numbers[0], numbers[2], numbers[4], numbers[5], ..., numbers[1]]\n",
    "# = [10, 45, 14, 79, ..., 12]\n",
    "b = np.random.choice(k, 100, p=prob)\n",
    "number_l = numbers[b]\n",
    "\n",
    "\n",
    "#sort numbers\n",
    "numbers = sorted(numbers)\n",
    "#plot histogram\n",
    "plt.hist(number_l, bins=numbers)\n",
    "# show number ticked on x - axis\n",
    "plt.xticks(sorted(numbers), sorted(numbers))\n",
    "# add xlabel to graph\n",
    "plt.xlabel('Number')\n",
    "# add label to y axis on graph\n",
    "plt.ylabel('Height (count)')\n",
    "# show plotted graph\n",
    "plt.show()\n",
    "\n",
    "# count number of times each number is selected\n",
    "number_count = []\n",
    "for i in range(0, k):\n",
    "    number_count.append((number_l == numbers[i]).sum())\n",
    "print(numbers)\n",
    "print(number_count)\n",
    "\n",
    "# plots a bar graph as numbers on x axis and count as height with width = 1\n",
    "plt.bar(numbers, height=number_count, width=1)\n",
    "# ticks number on x axis\n",
    "plt.xticks(np.array(numbers)+0.5, numbers)\n",
    "# add xlabel to graph\n",
    "plt.xlabel('Number')\n",
    "# add label to y axis on graph\n",
    "plt.ylabel('Height (count)')\n",
    "plt.show()"
   ]
  },
  {
   "cell_type": "markdown",
   "metadata": {},
   "source": [
    "# Excercise 2"
   ]
  },
  {
   "cell_type": "code",
   "execution_count": 3,
   "metadata": {},
   "outputs": [
    {
     "name": "stderr",
     "output_type": "stream",
     "text": [
      "/home/jupyterlab/conda/lib/python3.6/site-packages/bs4/__init__.py:181: UserWarning: No parser was explicitly specified, so I'm using the best available HTML parser for this system (\"lxml\"). This usually isn't a problem, but if you run this code on another system, or in a different virtual environment, it may use a different parser and behave differently.\n",
      "\n",
      "The code that caused this warning is on line 193 of the file /home/jupyterlab/conda/lib/python3.6/runpy.py. To get rid of this warning, change code that looks like this:\n",
      "\n",
      " BeautifulSoup(YOUR_MARKUP})\n",
      "\n",
      "to this:\n",
      "\n",
      " BeautifulSoup(YOUR_MARKUP, \"lxml\")\n",
      "\n",
      "  markup_type=markup_type))\n"
     ]
    },
    {
     "name": "stdout",
     "output_type": "stream",
     "text": [
      "Guido van Rossum\n",
      "219\n",
      "12\n"
     ]
    }
   ],
   "source": [
    "import urllib.request\n",
    "from bs4 import BeautifulSoup\n",
    "import re\n",
    "\n",
    "# load html page from url\n",
    "page = urllib.request.urlopen('https://en.wikipedia.org/wiki/Python_(programming_language)')\n",
    "# make soup object of html page\n",
    "soup = BeautifulSoup(page)\n",
    "\n",
    "############## section 1 ############\n",
    "# find a <table> with class \"infobox vevent\". Because that's the table which contains the desired data\n",
    "# then, from the 3rd <tr> tag and extract text of <td> tag\n",
    "designed_by = soup.body.find('table', attrs={'class' : 'infobox vevent'}).findAll('tr')[2].find('td').text\n",
    "print(designed_by)\n",
    "\n",
    "\n",
    "############### section 2 ################\n",
    "# find a <div> with class \"mw-parser-output\" (it contain history session)\n",
    "data = soup.body.find('div', attrs={'class' : 'mw-parser-output'})\n",
    "# find all <p> child of data\n",
    "data_p = data.findAll('p')\n",
    "d = \"\"\n",
    "# extract text from 5th <p> tag to 9th <p> tag. Only these <p> tags\n",
    "# are under history session.\n",
    "for i in range(5, 10):\n",
    "    # concate text of <p> tag into d\n",
    "    d += data_p[i].text\n",
    "\n",
    "# find a <table> with class = cquote and extract text from it\n",
    "d += data.find('table', attrs={'class' : 'cquote'}).text\n",
    "\n",
    "# print(d)\n",
    "\n",
    "# list of words/characters to remove\n",
    "remove = ['(', ')', '[', ']', '...', ',', '.', '“', '”', '&']\n",
    "# convert texts into lowercase\n",
    "d.lower()\n",
    "\n",
    "# remove each word/character from the list remove and \n",
    "# replace it with a blank space\n",
    "for ch in remove:\n",
    "    d = d.replace(ch, ' ')\n",
    "\n",
    "# convert it into list by spliting it by blank space\n",
    "d = d.split()\n",
    "# create a set to get unique words only\n",
    "a = set(d)\n",
    "# print(a)\n",
    "# len of this set is equal to number of unique words\n",
    "print(len(a))\n",
    "\n",
    "\n",
    "##################### section 3  ###############\n",
    "# find a <table> with class \"infobox vevent\", get 18th <tr> tag and extract text from it \n",
    "influenced_by = soup.body.find('table', attrs={'class' : 'infobox vevent'}).findAll('tr')[17].text\n",
    "# replace reference number with blank space e.g.: [18] -> \" \", [19] -> \" \"\n",
    "influenced_by = re.sub(\"\\[\\d+\\] | \\d+\", \" \", influenced_by)\n",
    "# split it by \",\" and get the length of the list. That's the number of language \n",
    "# influenced by python\n",
    "print(len(influenced_by.split(',')))\n",
    "\n"
   ]
  }
 ],
 "metadata": {
  "kernelspec": {
   "display_name": "Python 3",
   "language": "python",
   "name": "python3"
  },
  "language_info": {
   "codemirror_mode": {
    "name": "ipython",
    "version": 3
   },
   "file_extension": ".py",
   "mimetype": "text/x-python",
   "name": "python",
   "nbconvert_exporter": "python",
   "pygments_lexer": "ipython3",
   "version": "3.6.3"
  }
 },
 "nbformat": 4,
 "nbformat_minor": 2
}
